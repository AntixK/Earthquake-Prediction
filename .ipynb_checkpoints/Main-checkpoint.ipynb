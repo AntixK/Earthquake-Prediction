{
 "cells": [
  {
   "cell_type": "markdown",
   "metadata": {},
   "source": [
    "## Data Description"
   ]
  },
  {
   "cell_type": "code",
   "execution_count": 1,
   "metadata": {},
   "outputs": [],
   "source": [
    "import torch\n",
    "import torch.nn as nn\n",
    "import torch.optim as optim\n",
    "import numpy as np\n",
    "import matplotlib\n",
    "import matplotlib.pyplot as plt\n",
    "import pandas as pd\n",
    "from torch.autograd import Variable\n",
    "# Dataloader\n",
    "from time import time\n",
    "from torch.utils.data import Dataset\n",
    "from torch.utils.data import DataLoader\n",
    "\n",
    "%matplotlib inline"
   ]
  },
  {
   "cell_type": "markdown",
   "metadata": {},
   "source": [
    "## Data Pre-processing"
   ]
  },
  {
   "cell_type": "code",
   "execution_count": null,
   "metadata": {},
   "outputs": [],
   "source": [
    "DATA_PATH = \"D:/Jobs/Incubit/\"\n",
    "SAVE_MODEL_PATH = \"D:/Jobs/Incubit/Code/saved_models/\""
   ]
  },
  {
   "cell_type": "code",
   "execution_count": null,
   "metadata": {},
   "outputs": [],
   "source": [
    "from dataprocess import DataProcessor \n",
    "dl = DataLoader(\"train.csv\", DATA_PATH, 120)\n",
    "\n",
    "dl.plot_data_sample()\n",
    "dl.plot_resolution()"
   ]
  },
  {
   "cell_type": "markdown",
   "metadata": {},
   "source": [
    "## Machine Learning Approach"
   ]
  },
  {
   "cell_type": "code",
   "execution_count": null,
   "metadata": {},
   "outputs": [],
   "source": [
    "\n"
   ]
  },
  {
   "cell_type": "code",
   "execution_count": 6,
   "metadata": {},
   "outputs": [
    {
     "name": "stdout",
     "output_type": "stream",
     "text": [
      "cuda:0\n"
     ]
    },
    {
     "data": {
      "image/png": "[encoded data removed]",
      "text/plain": [
       "<Figure size 432x288 with 1 Axes>"
      ]
     },
     "metadata": {
      "needs_background": "light"
     },
     "output_type": "display_data"
    }
   ],
   "source": [
    "# set random seed to 0\n",
    "np.random.seed(0)\n",
    "torch.manual_seed(0)\n",
    "\n",
    "data = pd.read_csv(\"processed_train_1.csv\")\n",
    "X_train = data.values[None,:,0]\n",
    "y_train = data.values[None,:,1]\n",
    "X_val = data.values[None,:,0]\n",
    "y_val = data.values[None:,1]\n",
    "\n",
    "plt.plot(X_train.T,lw=2,label = \"X\")\n",
    "plt.plot(y_train.T, lw=2, label=\"Y\")\n",
    "plt.legend(fontsize=15)\n",
    "plt.xlabel(\"time\",fontsize=15)\n",
    "plt.ylabel(\"Signal\",fontsize=15)\n",
    "plt.grid(True)\n",
    "plt.plot()\n",
    "\n",
    "device = torch.device(\"cuda:0\" if torch.cuda.is_available() else \"cpu\")\n",
    "print(device)"
   ]
  },
  {
   "cell_type": "markdown",
   "metadata": {},
   "source": [
    "## Deep Learning Approach"
   ]
  },
  {
   "cell_type": "code",
   "execution_count": 3,
   "metadata": {},
   "outputs": [],
   "source": [
    "class Time_Series_Data(Dataset):\n",
    "\n",
    "    def __init__(self, train_x, train_y):\n",
    "        self.X = train_x\n",
    "        self.y = train_y       \n",
    "\n",
    "    def __getitem__(self, item):\n",
    "        x_t = self.X[item]\n",
    "        y_t = self.y[item]\n",
    "        return x_t, y_t\n",
    "\n",
    "    def __len__(self):\n",
    "        \n",
    "        return len(self.X)\n",
    "\n",
    "# Sliding Window\n",
    "def sliding_window_samples(X_train, y_train, lookBack = 36, RNN=True):\n",
    "\n",
    "    dataX, dataY = [], []\n",
    "    for i in range(len(X_train) - lookBack):\n",
    "        sample_X = X_train[i:(i + lookBack)]\n",
    "        sample_Y = y_train[i + lookBack]\n",
    "        dataX.append(sample_X)\n",
    "        dataY.append(sample_Y)\n",
    "    dataX = np.array(dataX)  # (N, lag)\n",
    "    dataY = np.array(dataY)  # (N, )\n",
    "\n",
    "    if not RNN:\n",
    "        dataX = np.reshape(dataX, (dataX.shape[0], dataX.shape[1]))\n",
    "\n",
    "    return dataX, dataY"
   ]
  },
  {
   "cell_type": "code",
   "execution_count": 10,
   "metadata": {},
   "outputs": [],
   "source": [
    "import torch.autograd as autograd\n",
    "import torch.nn as nn\n",
    "import torch.nn.functional as F\n",
    "import torch.optim as optim\n",
    "\n",
    "    \n",
    "class SequenceModel(nn.Module):\n",
    "\n",
    "    def __init__(self, inputDim, hiddenNum, outputDim, layerNum, BiDir = False):\n",
    "        super(SequenceModel, self).__init__()\n",
    "        \n",
    "        self.hiddenNum = hiddenNum\n",
    "        self.inputDim = inputDim\n",
    "        self.outputDim = outputDim\n",
    "        self.layerNum = layerNum\n",
    "        self.BiDir = BiDir\n",
    "        \n",
    "        self.cell = nn.LSTM(input_size=self.inputDim, hidden_size=self.hiddenNum,\n",
    "                               num_layers=self.layerNum, dropout=0.2,\n",
    "                               batch_first=True,  bidirectional=True)\n",
    "        \"\"\"\n",
    "        Using Bidirectional LSTM 'may' provide a better understanding of the acoustic signal?\n",
    "        As it moves forward and backward through time, it can capture the information that is \n",
    "        conditioned upon the future values.        \n",
    "        \"\"\"\n",
    "        self.fc = nn.Linear(self.hiddenNum, self.outputDim)\n",
    "\n",
    "    def forward(self, x):        \n",
    "        batchSize = x.size(0)\n",
    "        if self.BiDir:\n",
    "            h0 = Variable(torch.zeros(self.layerNum * 2, batchSize, self.hiddenNum)).cuda()\n",
    "            c0 = Variable(torch.zeros(self.layerNum * 2, batchSize, self.hiddenNum)).cuda()\n",
    "        else:\n",
    "            h0 = Variable(torch.zeros(self.layerNum * 1, batchSize, self.hiddenNum)).cuda()\n",
    "            c0 = Variable(torch.zeros(self.layerNum * 1, batchSize, self.hiddenNum)).cuda()           \n",
    "        #print(x.size(), h0.size())\n",
    "        rnnOutput, hn = self.cell(x, (h0, c0))\n",
    "        #print(rnnOutput.size())\n",
    "        #hn = hn[0].view(batchSize, self.hiddenNum)\n",
    "        out = rnnOutput.transpose(0,1).contiguous().view(-1, self.hiddenNum)\n",
    "        #hn = hn[0].contiguous().view(self.hiddenNum,-1)\n",
    "        fcOutput = self.fc(out)\n",
    "\n",
    "        return fcOutput"
   ]
  },
  {
   "cell_type": "code",
   "execution_count": null,
   "metadata": {},
   "outputs": [
    {
     "name": "stdout",
     "output_type": "stream",
     "text": [
      "Epoch [  0/200] Batch [ 500/3840] [Train Loss: 13.109] [Test Loss 13.793] Time: 6.524s\n",
      "Epoch [  0/200] Batch [1000/3840] [Train Loss: 9.894] [Test Loss 10.155] Time: 6.938s\n",
      "Epoch [  0/200] Batch [1500/3840] [Train Loss: 8.611] [Test Loss 26.617] Time: 6.643s\n",
      "Epoch [  0/200] Batch [2000/3840] [Train Loss: 14.349] [Test Loss 7.085] Time: 6.636s\n",
      "Epoch [  0/200] Batch [2500/3840] [Train Loss: 15.645] [Test Loss 6.058] Time: 6.681s\n",
      "Epoch [  0/200] Batch [3000/3840] [Train Loss: 20.230] [Test Loss 27.607] Time: 6.867s\n",
      "Epoch [  0/200] Batch [3500/3840] [Train Loss: 12.395] [Test Loss 8.596] Time: 6.578s\n",
      "1 epoch is finished!\n",
      "Epoch [  1/200] Batch [ 500/3840] [Train Loss: 18.238] [Test Loss 17.948] Time: 11.251s\n",
      "Epoch [  1/200] Batch [1000/3840] [Train Loss: 12.941] [Test Loss 15.047] Time: 6.662s\n",
      "Epoch [  1/200] Batch [1500/3840] [Train Loss: 16.503] [Test Loss 11.326] Time: 6.633s\n",
      "Epoch [  1/200] Batch [2000/3840] [Train Loss: 13.166] [Test Loss 8.846] Time: 6.609s\n",
      "Epoch [  1/200] Batch [2500/3840] [Train Loss: 12.717] [Test Loss 6.007] Time: 6.733s\n",
      "Epoch [  1/200] Batch [3000/3840] [Train Loss: 11.337] [Test Loss 2.863] Time: 6.978s\n",
      "Epoch [  1/200] Batch [3500/3840] [Train Loss: 15.675] [Test Loss 10.833] Time: 6.708s\n",
      "2 epoch is finished!\n",
      "Epoch [  2/200] Batch [ 500/3840] [Train Loss: 10.733] [Test Loss 18.573] Time: 11.021s\n",
      "Epoch [  2/200] Batch [1000/3840] [Train Loss: 18.938] [Test Loss 2.108] Time: 6.546s\n",
      "Epoch [  2/200] Batch [1500/3840] [Train Loss: 20.536] [Test Loss 12.398] Time: 7.087s\n",
      "Epoch [  2/200] Batch [2000/3840] [Train Loss: 13.995] [Test Loss 14.931] Time: 7.092s\n",
      "Epoch [  2/200] Batch [2500/3840] [Train Loss: 10.954] [Test Loss 9.408] Time: 7.040s\n",
      "Epoch [  2/200] Batch [3000/3840] [Train Loss: 9.378] [Test Loss 12.925] Time: 6.970s\n",
      "Epoch [  2/200] Batch [3500/3840] [Train Loss: 14.046] [Test Loss 2.872] Time: 6.884s\n",
      "3 epoch is finished!\n",
      "Epoch [  3/200] Batch [ 500/3840] [Train Loss: 10.603] [Test Loss 16.194] Time: 11.372s\n",
      "Epoch [  3/200] Batch [1000/3840] [Train Loss: 9.013] [Test Loss 9.099] Time: 6.758s\n",
      "Epoch [  3/200] Batch [1500/3840] [Train Loss: 12.782] [Test Loss 19.011] Time: 6.512s\n",
      "Epoch [  3/200] Batch [2000/3840] [Train Loss: 14.324] [Test Loss 3.900] Time: 6.577s\n",
      "Epoch [  3/200] Batch [2500/3840] [Train Loss: 11.081] [Test Loss 9.175] Time: 7.138s\n",
      "Epoch [  3/200] Batch [3000/3840] [Train Loss: 14.665] [Test Loss 29.998] Time: 7.157s\n",
      "Epoch [  3/200] Batch [3500/3840] [Train Loss: 14.900] [Test Loss 5.221] Time: 7.001s\n",
      "4 epoch is finished!\n",
      "Epoch [  4/200] Batch [ 500/3840] [Train Loss: 15.107] [Test Loss 5.000] Time: 11.464s\n",
      "Epoch [  4/200] Batch [1000/3840] [Train Loss: 13.533] [Test Loss 17.364] Time: 7.098s\n",
      "Epoch [  4/200] Batch [1500/3840] [Train Loss: 9.600] [Test Loss 2.585] Time: 6.625s\n",
      "Epoch [  4/200] Batch [2000/3840] [Train Loss: 14.551] [Test Loss 11.655] Time: 6.565s\n",
      "Epoch [  4/200] Batch [2500/3840] [Train Loss: 11.908] [Test Loss 15.050] Time: 6.584s\n",
      "Epoch [  4/200] Batch [3000/3840] [Train Loss: 13.334] [Test Loss 4.576] Time: 6.526s\n",
      "Epoch [  4/200] Batch [3500/3840] [Train Loss: 12.493] [Test Loss 14.137] Time: 6.544s\n",
      "5 epoch is finished!\n",
      "Epoch [  5/200] Batch [ 500/3840] [Train Loss: 13.370] [Test Loss 0.900] Time: 11.118s\n",
      "Epoch [  5/200] Batch [1000/3840] [Train Loss: 14.966] [Test Loss 6.518] Time: 6.647s\n",
      "Epoch [  5/200] Batch [1500/3840] [Train Loss: 11.605] [Test Loss 8.953] Time: 7.025s\n",
      "Epoch [  5/200] Batch [2000/3840] [Train Loss: 13.706] [Test Loss 13.537] Time: 6.655s\n",
      "Epoch [  5/200] Batch [2500/3840] [Train Loss: 12.456] [Test Loss 16.725] Time: 6.679s\n",
      "Epoch [  5/200] Batch [3000/3840] [Train Loss: 16.345] [Test Loss 14.053] Time: 6.569s\n",
      "Epoch [  5/200] Batch [3500/3840] [Train Loss: 10.646] [Test Loss 8.821] Time: 6.595s\n",
      "6 epoch is finished!\n",
      "Epoch [  6/200] Batch [ 500/3840] [Train Loss: 11.095] [Test Loss 9.965] Time: 11.107s\n",
      "Epoch [  6/200] Batch [1000/3840] [Train Loss: 14.944] [Test Loss 18.057] Time: 6.613s\n",
      "Epoch [  6/200] Batch [1500/3840] [Train Loss: 15.855] [Test Loss 27.822] Time: 6.611s\n",
      "Epoch [  6/200] Batch [2000/3840] [Train Loss: 11.810] [Test Loss 19.892] Time: 7.131s\n",
      "Epoch [  6/200] Batch [2500/3840] [Train Loss: 16.006] [Test Loss 4.764] Time: 7.319s\n",
      "Epoch [  6/200] Batch [3000/3840] [Train Loss: 12.607] [Test Loss 6.071] Time: 7.387s\n",
      "Epoch [  6/200] Batch [3500/3840] [Train Loss: 14.651] [Test Loss 15.727] Time: 7.148s\n",
      "7 epoch is finished!\n",
      "Epoch [  7/200] Batch [ 500/3840] [Train Loss: 16.275] [Test Loss 7.612] Time: 11.805s\n",
      "Epoch [  7/200] Batch [1000/3840] [Train Loss: 10.050] [Test Loss 2.825] Time: 6.973s\n",
      "Epoch [  7/200] Batch [1500/3840] [Train Loss: 6.310] [Test Loss 32.688] Time: 7.156s\n",
      "Epoch [  7/200] Batch [2000/3840] [Train Loss: 16.857] [Test Loss 27.078] Time: 7.213s\n",
      "Epoch [  7/200] Batch [2500/3840] [Train Loss: 12.951] [Test Loss 10.246] Time: 7.034s\n",
      "Epoch [  7/200] Batch [3000/3840] [Train Loss: 10.672] [Test Loss 4.145] Time: 7.149s\n",
      "Epoch [  7/200] Batch [3500/3840] [Train Loss: 9.390] [Test Loss 15.413] Time: 7.205s\n",
      "8 epoch is finished!\n",
      "Epoch [  8/200] Batch [ 500/3840] [Train Loss: 12.310] [Test Loss 12.257] Time: 11.995s\n",
      "Epoch [  8/200] Batch [1000/3840] [Train Loss: 9.285] [Test Loss 7.171] Time: 7.044s\n",
      "Epoch [  8/200] Batch [1500/3840] [Train Loss: 14.828] [Test Loss 11.323] Time: 7.082s\n",
      "Epoch [  8/200] Batch [2000/3840] [Train Loss: 11.386] [Test Loss 20.150] Time: 7.170s\n",
      "Epoch [  8/200] Batch [2500/3840] [Train Loss: 17.041] [Test Loss 7.451] Time: 7.139s\n",
      "Epoch [  8/200] Batch [3000/3840] [Train Loss: 12.140] [Test Loss 5.348] Time: 7.035s\n",
      "Epoch [  8/200] Batch [3500/3840] [Train Loss: 12.099] [Test Loss 9.119] Time: 7.047s\n",
      "9 epoch is finished!\n",
      "Epoch [  9/200] Batch [ 500/3840] [Train Loss: 10.592] [Test Loss 35.120] Time: 11.894s\n",
      "Epoch [  9/200] Batch [1000/3840] [Train Loss: 14.012] [Test Loss 21.983] Time: 6.879s\n",
      "Epoch [  9/200] Batch [1500/3840] [Train Loss: 12.505] [Test Loss 5.901] Time: 6.910s\n",
      "Epoch [  9/200] Batch [2000/3840] [Train Loss: 11.097] [Test Loss 12.093] Time: 6.904s\n",
      "Epoch [  9/200] Batch [2500/3840] [Train Loss: 15.837] [Test Loss 8.187] Time: 7.366s\n",
      "Epoch [  9/200] Batch [3000/3840] [Train Loss: 12.672] [Test Loss 13.716] Time: 7.134s\n",
      "Epoch [  9/200] Batch [3500/3840] [Train Loss: 9.863] [Test Loss 19.034] Time: 6.922s\n",
      "10 epoch is finished!\n",
      "Epoch [ 10/200] Batch [ 500/3840] [Train Loss: 16.823] [Test Loss 25.592] Time: 11.400s\n",
      "Epoch [ 10/200] Batch [1000/3840] [Train Loss: 13.575] [Test Loss 5.418] Time: 6.919s\n",
      "Epoch [ 10/200] Batch [1500/3840] [Train Loss: 12.392] [Test Loss 5.250] Time: 6.810s\n",
      "Epoch [ 10/200] Batch [2000/3840] [Train Loss: 12.560] [Test Loss 16.630] Time: 6.778s\n",
      "Epoch [ 10/200] Batch [2500/3840] [Train Loss: 8.793] [Test Loss 29.217] Time: 7.225s\n",
      "Epoch [ 10/200] Batch [3000/3840] [Train Loss: 12.972] [Test Loss 2.472] Time: 7.216s\n",
      "Epoch [ 10/200] Batch [3500/3840] [Train Loss: 9.821] [Test Loss 19.767] Time: 6.955s\n",
      "11 epoch is finished!\n",
      "Epoch [ 11/200] Batch [ 500/3840] [Train Loss: 9.673] [Test Loss 4.771] Time: 12.093s\n",
      "Epoch [ 11/200] Batch [1000/3840] [Train Loss: 16.364] [Test Loss 20.029] Time: 7.055s\n",
      "Epoch [ 11/200] Batch [1500/3840] [Train Loss: 17.436] [Test Loss 13.262] Time: 6.975s\n"
     ]
    }
   ],
   "source": [
    "data = pd.read_csv(\"processed_train.csv\")\n",
    "Num_train = int(0.8*data.shape[0])\n",
    "Num_test = data.shape[0] - Num_train\n",
    "X_train = data.values[:Num_train,0]\n",
    "y_train = data.values[:Num_train,1]\n",
    "\n",
    "X_test = data.values[:Num_test,0]\n",
    "y_test = data.values[:Num_test,1]\n",
    "    \n",
    "lag = 36\n",
    "flag = False\n",
    "trainX, trainY = sliding_window_samples(X_train, y_train, lag, RNN=True)\n",
    "train_dataset = Time_Series_Data(trainX, trainY)\n",
    "trainloader = DataLoader(train_dataset, batch_size=32, shuffle=True, sampler=None, batch_sampler=None, num_workers=0)\n",
    "\n",
    "testX, testY = sliding_window_samples(X_test, y_test, lag, RNN=True)\n",
    "test_dataset = Time_Series_Data(testX, testY)\n",
    "testloader = DataLoader(test_dataset, batch_size=32, shuffle=True, sampler=None, batch_sampler=None, num_workers=0)\n",
    "\n",
    "# DO NOT CHANGE THE num_workes PARAMETER!!. PyTorch Doesn't support windows fully yet!!\n",
    "\n",
    "checkPoint= 500\n",
    "epoch = 200\n",
    "hidden_num=64\n",
    "input_dim = 1\n",
    "\n",
    "seq_model = SequenceModel(inputDim=1, hiddenNum=hidden_num, outputDim=1, layerNum=3, BiDir = True).cuda()\n",
    "optimizer = optim.SGD(seq_model.parameters(), lr=0.1, momentum=0.9)\n",
    "criterion = nn.MSELoss()        \n",
    "train_loss_list, test_loss_list = [],[]\n",
    "start_time = time()\n",
    "for i in range(epoch):\n",
    "    for batch_idx, (x, y) in enumerate(trainloader):\n",
    "        seq_model = seq_model.train()\n",
    "        \n",
    "        x= x.permute(1, 0).unsqueeze(2).float()\n",
    "        x, y = Variable(x).cuda(), Variable(y.float()).cuda()\n",
    "        optimizer.zero_grad()\n",
    "        pred = seq_model(x)\n",
    "        loss = criterion(pred, y)\n",
    "\n",
    "        if batch_idx % checkPoint == 0 and batch_idx != 0:\n",
    "            end_time = time() - start_time            \n",
    "            \n",
    "            with torch.no_grad():\n",
    "                for x, y in testloader:\n",
    "                    x= x.permute(1, 0).unsqueeze(2).float()\n",
    "                    x, y = Variable(x).cuda(), Variable(y.float()).cuda()\n",
    "                    pred = seq_model(x)\n",
    "                    test_loss = criterion(pred, y)\n",
    "            \n",
    "            print(\"Epoch [{:3d}/{:3d}] Batch [{:4d}/{:4d}] [Train Loss: {:2.3f}] [Test Loss {:2.3f}] Time: {:.3f}s\" .format(\n",
    "                i, epoch, batch_idx, len(trainloader), loss.item(),test_loss.item(), end_time))\n",
    "            \n",
    "            train_loss_list.append(loss.item())            \n",
    "            test_loss_list.append(test_loss.item())\n",
    "            \n",
    "            start_time = time()\n",
    "\n",
    "        loss.backward()\n",
    "        optimizer.step()\n",
    "\n",
    "    print(\"-------------------------\")\n",
    "torch.save(train_loss_list, \"LSTM_train_loss.pth\")\n",
    "torch.save(test_loss_list, \"LSTM_test_loss.pth\")\n",
    "torch.save(seq_model.state_dict(), \"Trained_model.pth\")\n",
    "\n",
    "# #     t2 = time.time()\n",
    "# #     print(\"train time:\", t2-t1)\n",
    "# #     p.dump(lossList, output, -1)"
   ]
  },
  {
   "cell_type": "code",
   "execution_count": 18,
   "metadata": {},
   "outputs": [
    {
     "data": {
      "text/plain": [
       "(20,)"
      ]
     },
     "execution_count": 18,
     "metadata": {},
     "output_type": "execute_result"
    }
   ],
   "source": []
  },
  {
   "cell_type": "code",
   "execution_count": null,
   "metadata": {},
   "outputs": [],
   "source": []
  }
 ],
 "metadata": {
  "kernelspec": {
   "display_name": "Python 3",
   "language": "python",
   "name": "python3"
  },
  "language_info": {
   "codemirror_mode": {
    "name": "ipython",
    "version": 3
   },
   "file_extension": ".py",
   "mimetype": "text/x-python",
   "name": "python",
   "nbconvert_exporter": "python",
   "pygments_lexer": "ipython3",
   "version": "3.6.7"
  }
 },
 "nbformat": 4,
 "nbformat_minor": 2
}
